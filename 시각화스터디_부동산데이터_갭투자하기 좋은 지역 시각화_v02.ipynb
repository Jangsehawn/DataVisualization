{
 "cells": [
  {
   "cell_type": "code",
   "execution_count": 1,
   "metadata": {},
   "outputs": [
    {
     "name": "stdout",
     "output_type": "stream",
     "text": [
      "E:\\235724_한국 부동산 데이터 시각화 경진대회_data\n"
     ]
    }
   ],
   "source": [
    "import os\n",
    "\n",
    "os.chdir(\"E:/235724_한국 부동산 데이터 시각화 경진대회_data\")\n",
    "print(os.getcwd())"
   ]
  },
  {
   "cell_type": "code",
   "execution_count": 48,
   "metadata": {},
   "outputs": [],
   "source": [
    "import pandas as pd\n",
    "import matplotlib as mpl\n",
    "# 폰트 업데이트 하는 코드 -> 있어야 한글 쓸 수 있음 \n",
    "mpl.font_manager._rebuild()\n",
    "# import libraries\n",
    "import matplotlib.pyplot as plt\n",
    "import seaborn as sns\n",
    "import numpy as np\n",
    "\n",
    "import re\n",
    "\n",
    "# 한글 사용\n",
    "plt.rc('font', family='NanumBarunGothic') "
   ]
  },
  {
   "cell_type": "markdown",
   "metadata": {},
   "source": [
    "<문제정의>\n",
    "\n",
    "# 갭투자\n",
    "\n",
    "시세차익을 목적으로 주택 매매가와 전세가의 차액이 적은 집을 고르는 투자 방식\n",
    "\n",
    "### <span style=\"color: red\">갭투자하기 좋은 곳 == 매매가와 전세가의 차액이 적고 주택가격이 많이 오른 곳</span>\n",
    "\n",
    "### <span style=\"color: red\">투자시점 = 2020년 1월</span>"
   ]
  },
  {
   "cell_type": "code",
   "execution_count": 4,
   "metadata": {},
   "outputs": [
    {
     "data": {
      "text/html": [
       "<div>\n",
       "<style scoped>\n",
       "    .dataframe tbody tr th:only-of-type {\n",
       "        vertical-align: middle;\n",
       "    }\n",
       "\n",
       "    .dataframe tbody tr th {\n",
       "        vertical-align: top;\n",
       "    }\n",
       "\n",
       "    .dataframe thead th {\n",
       "        text-align: right;\n",
       "    }\n",
       "</style>\n",
       "<table border=\"1\" class=\"dataframe\">\n",
       "  <thead>\n",
       "    <tr style=\"text-align: right;\">\n",
       "      <th></th>\n",
       "      <th>Unnamed: 0</th>\n",
       "      <th>총지수[2019.01=100]</th>\n",
       "      <th>단독주택[2019.01=100]</th>\n",
       "      <th>연립주택[2019.01=100]</th>\n",
       "      <th>아파트[2019.01=100]</th>\n",
       "      <th>아파트(서울)[2019.01=100]</th>\n",
       "      <th>총지수(서울)[2019.01=100]</th>\n",
       "    </tr>\n",
       "  </thead>\n",
       "  <tbody>\n",
       "    <tr>\n",
       "      <td>0</td>\n",
       "      <td>1986-01-01</td>\n",
       "      <td>17.601</td>\n",
       "      <td>35.506</td>\n",
       "      <td>18.059</td>\n",
       "      <td>10.793</td>\n",
       "      <td>9.782</td>\n",
       "      <td>16.755</td>\n",
       "    </tr>\n",
       "    <tr>\n",
       "      <td>1</td>\n",
       "      <td>1986-02-01</td>\n",
       "      <td>17.853</td>\n",
       "      <td>35.731</td>\n",
       "      <td>18.155</td>\n",
       "      <td>11.104</td>\n",
       "      <td>10.195</td>\n",
       "      <td>17.066</td>\n",
       "    </tr>\n",
       "    <tr>\n",
       "      <td>2</td>\n",
       "      <td>1986-03-01</td>\n",
       "      <td>18.273</td>\n",
       "      <td>36.553</td>\n",
       "      <td>18.823</td>\n",
       "      <td>11.446</td>\n",
       "      <td>10.550</td>\n",
       "      <td>17.573</td>\n",
       "    </tr>\n",
       "    <tr>\n",
       "      <td>3</td>\n",
       "      <td>1986-04-01</td>\n",
       "      <td>18.651</td>\n",
       "      <td>37.151</td>\n",
       "      <td>19.158</td>\n",
       "      <td>11.695</td>\n",
       "      <td>10.787</td>\n",
       "      <td>18.002</td>\n",
       "    </tr>\n",
       "    <tr>\n",
       "      <td>4</td>\n",
       "      <td>1986-05-01</td>\n",
       "      <td>18.693</td>\n",
       "      <td>37.151</td>\n",
       "      <td>19.301</td>\n",
       "      <td>11.726</td>\n",
       "      <td>10.875</td>\n",
       "      <td>18.040</td>\n",
       "    </tr>\n",
       "    <tr>\n",
       "      <td>...</td>\n",
       "      <td>...</td>\n",
       "      <td>...</td>\n",
       "      <td>...</td>\n",
       "      <td>...</td>\n",
       "      <td>...</td>\n",
       "      <td>...</td>\n",
       "      <td>...</td>\n",
       "    </tr>\n",
       "    <tr>\n",
       "      <td>418</td>\n",
       "      <td>2020-11-01</td>\n",
       "      <td>104.886</td>\n",
       "      <td>102.823</td>\n",
       "      <td>105.011</td>\n",
       "      <td>105.140</td>\n",
       "      <td>110.216</td>\n",
       "      <td>109.252</td>\n",
       "    </tr>\n",
       "    <tr>\n",
       "      <td>419</td>\n",
       "      <td>2020-12-01</td>\n",
       "      <td>106.043</td>\n",
       "      <td>103.249</td>\n",
       "      <td>105.711</td>\n",
       "      <td>106.608</td>\n",
       "      <td>112.406</td>\n",
       "      <td>110.887</td>\n",
       "    </tr>\n",
       "    <tr>\n",
       "      <td>420</td>\n",
       "      <td>2021-01-01</td>\n",
       "      <td>106.925</td>\n",
       "      <td>103.545</td>\n",
       "      <td>106.306</td>\n",
       "      <td>107.688</td>\n",
       "      <td>114.116</td>\n",
       "      <td>112.229</td>\n",
       "    </tr>\n",
       "    <tr>\n",
       "      <td>421</td>\n",
       "      <td>2021-02-01</td>\n",
       "      <td>107.730</td>\n",
       "      <td>103.887</td>\n",
       "      <td>106.959</td>\n",
       "      <td>108.651</td>\n",
       "      <td>115.372</td>\n",
       "      <td>113.272</td>\n",
       "    </tr>\n",
       "    <tr>\n",
       "      <td>422</td>\n",
       "      <td>2021-03-01</td>\n",
       "      <td>108.482</td>\n",
       "      <td>104.244</td>\n",
       "      <td>107.504</td>\n",
       "      <td>109.541</td>\n",
       "      <td>116.295</td>\n",
       "      <td>114.047</td>\n",
       "    </tr>\n",
       "  </tbody>\n",
       "</table>\n",
       "<p>423 rows × 7 columns</p>\n",
       "</div>"
      ],
      "text/plain": [
       "     Unnamed: 0  총지수[2019.01=100]  단독주택[2019.01=100]  연립주택[2019.01=100]  \\\n",
       "0    1986-01-01            17.601             35.506             18.059   \n",
       "1    1986-02-01            17.853             35.731             18.155   \n",
       "2    1986-03-01            18.273             36.553             18.823   \n",
       "3    1986-04-01            18.651             37.151             19.158   \n",
       "4    1986-05-01            18.693             37.151             19.301   \n",
       "..          ...               ...                ...                ...   \n",
       "418  2020-11-01           104.886            102.823            105.011   \n",
       "419  2020-12-01           106.043            103.249            105.711   \n",
       "420  2021-01-01           106.925            103.545            106.306   \n",
       "421  2021-02-01           107.730            103.887            106.959   \n",
       "422  2021-03-01           108.482            104.244            107.504   \n",
       "\n",
       "     아파트[2019.01=100]  아파트(서울)[2019.01=100]  총지수(서울)[2019.01=100]  \n",
       "0              10.793                 9.782                16.755  \n",
       "1              11.104                10.195                17.066  \n",
       "2              11.446                10.550                17.573  \n",
       "3              11.695                10.787                18.002  \n",
       "4              11.726                10.875                18.040  \n",
       "..                ...                   ...                   ...  \n",
       "418           105.140               110.216               109.252  \n",
       "419           106.608               112.406               110.887  \n",
       "420           107.688               114.116               112.229  \n",
       "421           108.651               115.372               113.272  \n",
       "422           109.541               116.295               114.047  \n",
       "\n",
       "[423 rows x 7 columns]"
      ]
     },
     "execution_count": 4,
     "metadata": {},
     "output_type": "execute_result"
    }
   ],
   "source": [
    "year_price=pd.read_csv('주택전세가격지수(KB).csv')\n",
    "year_price"
   ]
  },
  {
   "cell_type": "code",
   "execution_count": 5,
   "metadata": {},
   "outputs": [
    {
     "data": {
      "text/html": [
       "<div>\n",
       "<style scoped>\n",
       "    .dataframe tbody tr th:only-of-type {\n",
       "        vertical-align: middle;\n",
       "    }\n",
       "\n",
       "    .dataframe tbody tr th {\n",
       "        vertical-align: top;\n",
       "    }\n",
       "\n",
       "    .dataframe thead th {\n",
       "        text-align: right;\n",
       "    }\n",
       "</style>\n",
       "<table border=\"1\" class=\"dataframe\">\n",
       "  <thead>\n",
       "    <tr style=\"text-align: right;\">\n",
       "      <th></th>\n",
       "      <th>Unnamed: 0</th>\n",
       "      <th>총지수[2019.01=100]</th>\n",
       "      <th>단독주택[2019.01=100]</th>\n",
       "      <th>연립주택[2019.01=100]</th>\n",
       "      <th>아파트[2019.01=100]</th>\n",
       "      <th>아파트(서울)[2019.01=100]</th>\n",
       "      <th>총지수(서울)[2019.01=100]</th>\n",
       "    </tr>\n",
       "  </thead>\n",
       "  <tbody>\n",
       "    <tr>\n",
       "      <td>0</td>\n",
       "      <td>1986-01-01</td>\n",
       "      <td>34.656</td>\n",
       "      <td>61.347</td>\n",
       "      <td>43.053</td>\n",
       "      <td>20.973</td>\n",
       "      <td>17.153</td>\n",
       "      <td>30.044</td>\n",
       "    </tr>\n",
       "    <tr>\n",
       "      <td>1</td>\n",
       "      <td>1986-02-01</td>\n",
       "      <td>34.656</td>\n",
       "      <td>61.347</td>\n",
       "      <td>42.925</td>\n",
       "      <td>20.973</td>\n",
       "      <td>17.183</td>\n",
       "      <td>30.044</td>\n",
       "    </tr>\n",
       "    <tr>\n",
       "      <td>2</td>\n",
       "      <td>1986-03-01</td>\n",
       "      <td>34.708</td>\n",
       "      <td>61.513</td>\n",
       "      <td>42.733</td>\n",
       "      <td>20.935</td>\n",
       "      <td>17.153</td>\n",
       "      <td>30.002</td>\n",
       "    </tr>\n",
       "    <tr>\n",
       "      <td>3</td>\n",
       "      <td>1986-04-01</td>\n",
       "      <td>34.449</td>\n",
       "      <td>61.097</td>\n",
       "      <td>42.733</td>\n",
       "      <td>20.819</td>\n",
       "      <td>17.034</td>\n",
       "      <td>29.837</td>\n",
       "    </tr>\n",
       "    <tr>\n",
       "      <td>4</td>\n",
       "      <td>1986-05-01</td>\n",
       "      <td>34.293</td>\n",
       "      <td>60.848</td>\n",
       "      <td>41.837</td>\n",
       "      <td>20.664</td>\n",
       "      <td>16.945</td>\n",
       "      <td>29.588</td>\n",
       "    </tr>\n",
       "    <tr>\n",
       "      <td>...</td>\n",
       "      <td>...</td>\n",
       "      <td>...</td>\n",
       "      <td>...</td>\n",
       "      <td>...</td>\n",
       "      <td>...</td>\n",
       "      <td>...</td>\n",
       "      <td>...</td>\n",
       "    </tr>\n",
       "    <tr>\n",
       "      <td>418</td>\n",
       "      <td>2020-11-01</td>\n",
       "      <td>107.125</td>\n",
       "      <td>104.334</td>\n",
       "      <td>106.398</td>\n",
       "      <td>107.506</td>\n",
       "      <td>114.853</td>\n",
       "      <td>112.139</td>\n",
       "    </tr>\n",
       "    <tr>\n",
       "      <td>419</td>\n",
       "      <td>2020-12-01</td>\n",
       "      <td>108.586</td>\n",
       "      <td>104.909</td>\n",
       "      <td>107.237</td>\n",
       "      <td>109.346</td>\n",
       "      <td>116.365</td>\n",
       "      <td>113.532</td>\n",
       "    </tr>\n",
       "    <tr>\n",
       "      <td>420</td>\n",
       "      <td>2021-01-01</td>\n",
       "      <td>109.878</td>\n",
       "      <td>105.303</td>\n",
       "      <td>107.895</td>\n",
       "      <td>111.005</td>\n",
       "      <td>118.230</td>\n",
       "      <td>114.974</td>\n",
       "    </tr>\n",
       "    <tr>\n",
       "      <td>421</td>\n",
       "      <td>2021-02-01</td>\n",
       "      <td>111.375</td>\n",
       "      <td>105.718</td>\n",
       "      <td>108.706</td>\n",
       "      <td>112.957</td>\n",
       "      <td>120.121</td>\n",
       "      <td>116.290</td>\n",
       "    </tr>\n",
       "    <tr>\n",
       "      <td>422</td>\n",
       "      <td>2021-03-01</td>\n",
       "      <td>112.842</td>\n",
       "      <td>106.095</td>\n",
       "      <td>109.425</td>\n",
       "      <td>114.911</td>\n",
       "      <td>121.721</td>\n",
       "      <td>117.411</td>\n",
       "    </tr>\n",
       "  </tbody>\n",
       "</table>\n",
       "<p>423 rows × 7 columns</p>\n",
       "</div>"
      ],
      "text/plain": [
       "     Unnamed: 0  총지수[2019.01=100]  단독주택[2019.01=100]  연립주택[2019.01=100]  \\\n",
       "0    1986-01-01            34.656             61.347             43.053   \n",
       "1    1986-02-01            34.656             61.347             42.925   \n",
       "2    1986-03-01            34.708             61.513             42.733   \n",
       "3    1986-04-01            34.449             61.097             42.733   \n",
       "4    1986-05-01            34.293             60.848             41.837   \n",
       "..          ...               ...                ...                ...   \n",
       "418  2020-11-01           107.125            104.334            106.398   \n",
       "419  2020-12-01           108.586            104.909            107.237   \n",
       "420  2021-01-01           109.878            105.303            107.895   \n",
       "421  2021-02-01           111.375            105.718            108.706   \n",
       "422  2021-03-01           112.842            106.095            109.425   \n",
       "\n",
       "     아파트[2019.01=100]  아파트(서울)[2019.01=100]  총지수(서울)[2019.01=100]  \n",
       "0              20.973                17.153                30.044  \n",
       "1              20.973                17.183                30.044  \n",
       "2              20.935                17.153                30.002  \n",
       "3              20.819                17.034                29.837  \n",
       "4              20.664                16.945                29.588  \n",
       "..                ...                   ...                   ...  \n",
       "418           107.506               114.853               112.139  \n",
       "419           109.346               116.365               113.532  \n",
       "420           111.005               118.230               114.974  \n",
       "421           112.957               120.121               116.290  \n",
       "422           114.911               121.721               117.411  \n",
       "\n",
       "[423 rows x 7 columns]"
      ]
     },
     "execution_count": 5,
     "metadata": {},
     "output_type": "execute_result"
    }
   ],
   "source": [
    "buy_price=pd.read_csv('주택매매가격지수(KB).csv')\n",
    "buy_price"
   ]
  },
  {
   "cell_type": "markdown",
   "metadata": {},
   "source": [
    "# 매매가와 전세가의 차액이 적은 곳\n",
    "\n",
    "기존 지수를 원데이터로 돌리기 위하여 국토교통부(http://rtdown.molit.go.kr/)의 실거래가 데이터를 추가 활용\n",
    "\n",
    "2019.01을 기준으로 표준화되어 있는 데이터를 원데이터의 형태로 변환\n",
    "\n"
   ]
  },
  {
   "cell_type": "code",
   "execution_count": 22,
   "metadata": {},
   "outputs": [
    {
     "data": {
      "text/plain": [
       "246463306.64419162"
      ]
     },
     "execution_count": 22,
     "metadata": {},
     "output_type": "execute_result"
    }
   ],
   "source": [
    "# 엑셀상에서 설명 삭제, 값 상에서 , 삭제\n",
    "\n",
    "# 2019년 1월 아파트 매매 실거래가 평균 \n",
    "apartement_buy_real=pd.read_excel('아파트(매매)_실거래가_20220215010431.xlsx')\n",
    "apartement_buy=apartement_buy_real['거래금액(만원)'].mean()*10000\n",
    "apartement_buy"
   ]
  },
  {
   "cell_type": "code",
   "execution_count": 41,
   "metadata": {},
   "outputs": [
    {
     "data": {
      "text/plain": [
       "<matplotlib.axes._subplots.AxesSubplot at 0x2e681bccd48>"
      ]
     },
     "execution_count": 41,
     "metadata": {},
     "output_type": "execute_result"
    },
    {
     "data": {
      "image/png": "[encoded data removed]",
      "text/plain": [
       "<Figure size 432x288 with 1 Axes>"
      ]
     },
     "metadata": {},
     "output_type": "display_data"
    }
   ],
   "source": [
    "sns.kdeplot(apartement_buy_real['거래금액(만원)'])"
   ]
  },
  {
   "cell_type": "code",
   "execution_count": 27,
   "metadata": {},
   "outputs": [
    {
     "data": {
      "text/plain": [
       "260109225.93140215"
      ]
     },
     "execution_count": 27,
     "metadata": {},
     "output_type": "execute_result"
    }
   ],
   "source": [
    "\n",
    "# 2019년 1월 아파트 전세 보증금 평균 \n",
    "apartement_year_real=pd.read_excel('아파트(전월세)_실거래가_20220215011801.xlsx')\n",
    "apartement_year=apartement_year_real[apartement_year_real['전월세구분']=='전세' ]['보증금(만원)'].mean()*10000\n",
    "apartement_year"
   ]
  },
  {
   "cell_type": "code",
   "execution_count": 39,
   "metadata": {},
   "outputs": [
    {
     "data": {
      "text/plain": [
       "<matplotlib.axes._subplots.AxesSubplot at 0x2e681773b48>"
      ]
     },
     "execution_count": 39,
     "metadata": {},
     "output_type": "execute_result"
    },
    {
     "data": {
      "image/png": "[encoded data removed]",
      "text/plain": [
       "<Figure size 432x288 with 1 Axes>"
      ]
     },
     "metadata": {},
     "output_type": "display_data"
    }
   ],
   "source": [
    "sns.kdeplot(apartement_year_real[apartement_year_real['전월세구분']=='전세' ]['보증금(만원)'])"
   ]
  },
  {
   "cell_type": "code",
   "execution_count": 31,
   "metadata": {},
   "outputs": [
    {
     "data": {
      "text/plain": [
       "165320371.59636948"
      ]
     },
     "execution_count": 31,
     "metadata": {},
     "output_type": "execute_result"
    }
   ],
   "source": [
    "# 2019년 1월 연립다세대 매매 실거래가 평균 \n",
    "rowhouse_buy_real=pd.read_excel('연립다세대(매매)_실거래가_20220215012719.xlsx')\n",
    "rowhouse_buy=rowhouse_buy_real['거래금액(만원)'].mean()*10000\n",
    "rowhouse_buy"
   ]
  },
  {
   "cell_type": "code",
   "execution_count": 30,
   "metadata": {},
   "outputs": [
    {
     "data": {
      "text/plain": [
       "150279596.42521167"
      ]
     },
     "execution_count": 30,
     "metadata": {},
     "output_type": "execute_result"
    }
   ],
   "source": [
    "# 2019년 1월 연립다세대 전세 보증금 평균 \n",
    "rowhouse_year_real=pd.read_excel('연립다세대(전월세)_실거래가_20220215012734.xlsx')\n",
    "rowhouse_year=rowhouse_year_real[rowhouse_year_real['전월세구분']=='전세' ]['보증금(만원)'].mean()*10000\n",
    "rowhouse_year"
   ]
  },
  {
   "cell_type": "code",
   "execution_count": 33,
   "metadata": {},
   "outputs": [
    {
     "data": {
      "text/plain": [
       "165320371.59636948"
      ]
     },
     "execution_count": 33,
     "metadata": {},
     "output_type": "execute_result"
    }
   ],
   "source": [
    "# 2019년 1월 단독다가구매매 실거래가 평균 \n",
    "house_buy_real=pd.read_excel('단독다가구(매매)_실거래가_20220215012642.xlsx')\n",
    "house_buy=rowhouse_buy_real['거래금액(만원)'].mean()*10000\n",
    "house_buy"
   ]
  },
  {
   "cell_type": "code",
   "execution_count": 32,
   "metadata": {},
   "outputs": [
    {
     "data": {
      "text/plain": [
       "86561152.04568861"
      ]
     },
     "execution_count": 32,
     "metadata": {},
     "output_type": "execute_result"
    }
   ],
   "source": [
    "# 2019년 1월 단독다가구 전세 보증금 평균 \n",
    "house_year_real=pd.read_excel('단독다가구(전월세)_실거래가_20220215013011.xlsx')\n",
    "house_year=house_year_real[house_year_real['전월세구분']=='전세' ]['보증금(만원)'].mean()*10000\n",
    "house_year"
   ]
  },
  {
   "cell_type": "code",
   "execution_count": 34,
   "metadata": {},
   "outputs": [],
   "source": [
    "# 매매지수에서 전세지수를 뺀 값 \n",
    "# 실거래 평균으로 바꾸어 계산 \n",
    "\n",
    "house_index=buy_price['단독주택[2019.01=100]']*house_buy-year_price['단독주택[2019.01=100]']*house_year\n",
    "rowhouse_index=buy_price['연립주택[2019.01=100]']*rowhouse_buy-year_price['연립주택[2019.01=100]']*rowhouse_year\n",
    "apartment_index=buy_price['아파트[2019.01=100]']*apartement_buy-year_price['아파트[2019.01=100]']*apartement_year\n"
   ]
  },
  {
   "cell_type": "code",
   "execution_count": 35,
   "metadata": {},
   "outputs": [
    {
     "data": {
      "text/plain": [
       "408    2020-01-01\n",
       "409    2020-02-01\n",
       "410    2020-03-01\n",
       "411    2020-04-01\n",
       "412    2020-05-01\n",
       "413    2020-06-01\n",
       "414    2020-07-01\n",
       "415    2020-08-01\n",
       "416    2020-09-01\n",
       "417    2020-10-01\n",
       "418    2020-11-01\n",
       "419    2020-12-01\n",
       "420    2021-01-01\n",
       "421    2021-02-01\n",
       "422    2021-03-01\n",
       "Name: Unnamed: 0, dtype: object"
      ]
     },
     "execution_count": 35,
     "metadata": {},
     "output_type": "execute_result"
    }
   ],
   "source": [
    "date=buy_price['Unnamed: 0'][buy_price['Unnamed: 0']> '2019-12-01']\n",
    "date"
   ]
  },
  {
   "cell_type": "code",
   "execution_count": 36,
   "metadata": {},
   "outputs": [],
   "source": [
    "#  상승률 비교\n",
    "# 월별 평균 지수를 연초 시초가로 나눔\n",
    "total_index_rate = np.array(total_index[408:])/total_index[408] - 1 \n",
    "house_index_rate = np.array(house_index[408:])/house_index[408] - 1 \n",
    "rowhouse_index_rate = np.array(rowhouse_index[408:])/rowhouse_index[408] - 1 \n",
    "apartment_index_rate = np.array(apartment_index[408:])/apartment_index[408] - 1 \n",
    "apartment_index_seoul_rate = np.array(apartment_index_seoul[408:])/apartment_index_seoul[408] - 1 \n",
    "total_index_seoul_rate = np.array(total_index_seoul[408:])/total_index_seoul[408] - 1 "
   ]
  },
  {
   "cell_type": "code",
   "execution_count": 38,
   "metadata": {},
   "outputs": [
    {
     "data": {
      "text/plain": [
       "<matplotlib.legend.Legend at 0x2e68221ed88>"
      ]
     },
     "execution_count": 38,
     "metadata": {},
     "output_type": "execute_result"
    },
    {
     "data": {
      "image/png": "[encoded data removed]",
      "text/plain": [
       "<Figure size 576x288 with 1 Axes>"
      ]
     },
     "metadata": {},
     "output_type": "display_data"
    }
   ],
   "source": [
    "fig, ax = plt.subplots(figsize=(8, 4)) # 객체지향 방식 적용\n",
    "# 매매지수에서 전세지수를 뺀 값 \n",
    "\n",
    "\n",
    "ax.plot(date,house_index_rate, label=\"단독주택\")  \n",
    "ax.plot(date,rowhouse_index_rate, label=\"연립주택\")  \n",
    "ax.plot(date,apartment_index_rate, label=\"아파트\")  \n",
    "\n",
    "sns.set(font=\"Malgun Gothic\",\n",
    "        rc={\"axes.unicode_minus\":False},\n",
    "        style=\"whitegrid\",\n",
    "        font_scale=0.9)\n",
    "plt.xticks(rotation = 45)\n",
    "\n",
    "ax.set_title(\"2020년 시초가 기준 매매지수-전세지수 상승률\", \n",
    "             fontweight=\"bold\", fontsize=\"large\", color=\"darkgray\", pad=12)\n",
    "ax.grid(axis=\"y\", c=\"lightgray\")\n",
    "ax.axhline(y=0, c=\"gray\", ls=\":\")\n",
    "ax.legend()"
   ]
  },
  {
   "cell_type": "markdown",
   "metadata": {},
   "source": [
    "## 전국으로 판단하니 아파트 가격이 저평가된 것처럼 보여진다\n",
    "\n",
    "## -> 서울 아파트 데이터를 추가하여 확인하자"
   ]
  },
  {
   "cell_type": "markdown",
   "metadata": {},
   "source": [
    "# 서울특별시 부동산 실거래가 정보를 가져와서 추가해보자\n",
    "\n",
    "https://data.seoul.go.kr/dataList/OA-15548/S/1/datasetView.do"
   ]
  },
  {
   "cell_type": "code",
   "execution_count": 45,
   "metadata": {},
   "outputs": [
    {
     "data": {
      "text/plain": [
       "821789511.7767463"
      ]
     },
     "execution_count": 45,
     "metadata": {},
     "output_type": "execute_result"
    }
   ],
   "source": [
    "# 서울 2019년 실거래가 평균\n",
    "# 2019년 1월 데이터가 없어서 2019년 데이터의 평균으로 근사\n",
    "\n",
    "seoul_apartment=pd.read_csv('서울특별시_부동산_실거래가_정보_2019년.csv',encoding='cp949')\n",
    "seoul_apartment_buy=seoul_apartment[seoul_apartment['건물주용도']=='아파트']['물건금액'].mean()\n",
    "seoul_apartment_buy"
   ]
  },
  {
   "cell_type": "code",
   "execution_count": 49,
   "metadata": {},
   "outputs": [],
   "source": [
    "def search_keyword(data):\n",
    "    comprise = re.compile(r''+keyword)\n",
    "    if comprise.search(str(data)):\n",
    "        return True\n",
    "    else:\n",
    "        return False"
   ]
  },
  {
   "cell_type": "code",
   "execution_count": 50,
   "metadata": {},
   "outputs": [
    {
     "name": "stderr",
     "output_type": "stream",
     "text": [
      "C:\\Anaconda\\lib\\site-packages\\ipykernel_launcher.py:3: UserWarning: Boolean Series key will be reindexed to match DataFrame index.\n",
      "  This is separate from the ipykernel package so we can avoid doing imports until\n"
     ]
    },
    {
     "data": {
      "text/plain": [
       "443732999.74792033"
      ]
     },
     "execution_count": 50,
     "metadata": {},
     "output_type": "execute_result"
    }
   ],
   "source": [
    "# 서울 전세\n",
    "keyword='서울'\n",
    "seoul_apartement_year=apartement_year_real[apartement_year_real['시군구'].apply(search_keyword)][apartement_year_real['전월세구분']=='전세' ]['보증금(만원)'].mean()*10000\n",
    "seoul_apartement_year"
   ]
  },
  {
   "cell_type": "code",
   "execution_count": 51,
   "metadata": {},
   "outputs": [],
   "source": [
    "apartment_index_seoul=buy_price['아파트(서울)[2019.01=100]']*seoul_apartment_buy-year_price['아파트(서울)[2019.01=100]']*seoul_apartement_year"
   ]
  },
  {
   "cell_type": "code",
   "execution_count": 52,
   "metadata": {},
   "outputs": [
    {
     "data": {
      "text/plain": [
       "0      9.755559e+09\n",
       "1      9.596951e+09\n",
       "2      9.414772e+09\n",
       "3      9.211815e+09\n",
       "4      9.099627e+09\n",
       "           ...     \n",
       "418    4.547851e+10\n",
       "419    4.574928e+10\n",
       "420    4.652314e+10\n",
       "421    4.751981e+10\n",
       "422    4.842511e+10\n",
       "Name: 아파트(서울)[2019.01=100], Length: 423, dtype: float64"
      ]
     },
     "execution_count": 52,
     "metadata": {},
     "output_type": "execute_result"
    }
   ],
   "source": [
    "apartment_index_seoul"
   ]
  },
  {
   "cell_type": "code",
   "execution_count": 53,
   "metadata": {},
   "outputs": [],
   "source": [
    "apartment_index_seoul_rate = np.array(apartment_index_seoul[408:])/apartment_index_seoul[408] - 1 "
   ]
  },
  {
   "cell_type": "code",
   "execution_count": 55,
   "metadata": {},
   "outputs": [
    {
     "data": {
      "text/plain": [
       "<matplotlib.legend.Legend at 0x2e6ff6fe848>"
      ]
     },
     "execution_count": 55,
     "metadata": {},
     "output_type": "execute_result"
    },
    {
     "data": {
      "image/png": "[encoded data removed]",
      "text/plain": [
       "<Figure size 576x288 with 1 Axes>"
      ]
     },
     "metadata": {},
     "output_type": "display_data"
    }
   ],
   "source": [
    "fig, ax = plt.subplots(figsize=(8, 4)) # 객체지향 방식 적용\n",
    "# 매매지수에서 전세지수를 뺀 값 \n",
    "\n",
    "\n",
    "ax.plot(date,house_index_rate, label=\"단독주택\")  \n",
    "ax.plot(date,rowhouse_index_rate, label=\"연립주택\")  \n",
    "ax.plot(date,apartment_index_rate, label=\"아파트\")  \n",
    "ax.plot(date,apartment_index_seoul_rate, label=\"아파트(서울)\") \n",
    "\n",
    "sns.set(font=\"Malgun Gothic\",\n",
    "        rc={\"axes.unicode_minus\":False},\n",
    "        style=\"whitegrid\",\n",
    "        font_scale=0.9)\n",
    "plt.xticks(rotation = 45)\n",
    "\n",
    "ax.set_title(\"2020년 시초가 기준 매매지수-전세지수 상승률\", \n",
    "             fontweight=\"bold\", fontsize=\"large\", color=\"darkgray\", pad=12)\n",
    "sns.set(font=\"Malgun Gothic\",\n",
    "        rc={\"axes.unicode_minus\":False},\n",
    "        style=\"whitegrid\",\n",
    "        font_scale=0.9)\n",
    "ax.grid(axis=\"y\", c=\"lightgray\")\n",
    "ax.axhline(y=0, c=\"gray\", ls=\":\")\n",
    "ax.legend()"
   ]
  },
  {
   "cell_type": "code",
   "execution_count": 88,
   "metadata": {},
   "outputs": [],
   "source": [
    "blue = np.array([52, 117, 162])/255   # np.array([12, 77, 162])/255\n",
    "yellow = np.array([230, 207, 1])/255  # np.array([250, 227, 1])/255\n",
    "red = np.array([203, 10, 55])/255\n",
    "green = np.array([1, 44, 95])/255"
   ]
  },
  {
   "cell_type": "code",
   "execution_count": 125,
   "metadata": {},
   "outputs": [
    {
     "data": {
      "text/plain": [
       "<matplotlib.lines.Line2D at 0x2e68143d708>"
      ]
     },
     "execution_count": 125,
     "metadata": {},
     "output_type": "execute_result"
    },
    {
     "data": {
      "image/png": "[encoded data removed]",
      "text/plain": [
       "<Figure size 576x288 with 1 Axes>"
      ]
     },
     "metadata": {},
     "output_type": "display_data"
    }
   ],
   "source": [
    "fig, ax = plt.subplots(figsize=(8, 4)) # 객체지향 방식 적용\n",
    "# 매매지수에서 전세지수를 뺀 값 \n",
    "\n",
    "\n",
    "ax.plot(date,house_index_rate,lw=2,c=blue,  label=\"단독주택\")  \n",
    "ax.plot(date,rowhouse_index_rate,lw=2,c=green,  label=\"연립주택\")  \n",
    "ax.plot(date,apartment_index_rate,lw=2,c=yellow,  label=\"아파트\")  \n",
    "ax.plot(date,apartment_index_seoul_rate,lw=5, c=red, label=\"아파트(서울)\") \n",
    "\n",
    "sns.set(font=\"Malgun Gothic\",\n",
    "        rc={\"axes.unicode_minus\":False},\n",
    "        style=\"whitegrid\",\n",
    "        font_scale=0.9)\n",
    "plt.xticks(rotation = 45)\n",
    "\n",
    "ax.set_title(\"2020년 시초가 기준 매매지수-전세지수 상승률\", \n",
    "             fontweight=\"bold\", fontsize=\"large\", color=\"darkgray\", pad=12)\n",
    "sns.set(font=\"Malgun Gothic\",\n",
    "        rc={\"axes.unicode_minus\":False},\n",
    "        style=\"whitegrid\",\n",
    "        font_scale=0.9)\n",
    "\n",
    "# 상승률 *\n",
    "\n",
    "rates = [ apartment_index_rate[-1], rowhouse_index_rate[-1], house_index_rate[-1]]\n",
    "\n",
    "companies = [ \"아파트\", \"연립주택\", \"단독주택\"]\n",
    "colors = [ yellow,green, blue]\n",
    "for r, co,c in zip(rates, companies, colors):\n",
    "    ax.text(11.3, r, f\"{co} {r*100:.0f} %\", color=c,  fontsize=12)\n",
    "\n",
    "plt.text(13,0.3,\"아파트(서울) 19%\",color=red,fontsize=12 )\n",
    "\n",
    "\n",
    "yticks = np.arange(-5, 0.4, 0.25)\n",
    "ax.set_yticks(yticks)\n",
    "ax.set_yticklabels([f\"{y*100:.0f}%\" for y in yticks])\n",
    "ax.set_ylim(-1,0.4 )\n",
    "ax.grid(axis=\"y\", c=\"lightgray\")\n",
    "ax.axhline(y=0, c=\"gray\", ls=\":\")\n"
   ]
  },
  {
   "cell_type": "code",
   "execution_count": null,
   "metadata": {},
   "outputs": [],
   "source": []
  },
  {
   "cell_type": "code",
   "execution_count": null,
   "metadata": {},
   "outputs": [],
   "source": []
  },
  {
   "cell_type": "code",
   "execution_count": null,
   "metadata": {},
   "outputs": [],
   "source": []
  },
  {
   "cell_type": "code",
   "execution_count": null,
   "metadata": {},
   "outputs": [],
   "source": []
  }
 ],
 "metadata": {
  "kernelspec": {
   "display_name": "Python 3",
   "language": "python",
   "name": "python3"
  },
  "language_info": {
   "codemirror_mode": {
    "name": "ipython",
    "version": 3
   },
   "file_extension": ".py",
   "mimetype": "text/x-python",
   "name": "python",
   "nbconvert_exporter": "python",
   "pygments_lexer": "ipython3",
   "version": "3.7.9"
  }
 },
 "nbformat": 4,
 "nbformat_minor": 2
}
